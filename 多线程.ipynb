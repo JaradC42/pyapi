{
 "cells": [
  {
   "cell_type": "code",
   "execution_count": 5,
   "metadata": {},
   "outputs": [],
   "source": [
    "import threading\n",
    "import time\n",
    "from download_xiaoguotu import download_img_by_filename\n",
    "import pandas as pd"
   ]
  },
  {
   "cell_type": "code",
   "execution_count": 3,
   "metadata": {},
   "outputs": [
    {
     "data": {
      "text/plain": [
       "threading.Thread"
      ]
     },
     "execution_count": 3,
     "metadata": {},
     "output_type": "execute_result"
    }
   ],
   "source": [
    "\n",
    "threading.Thread(target=lambda x:print(x, time()), args=)"
   ]
  },
  {
   "cell_type": "code",
   "execution_count": 13,
   "metadata": {},
   "outputs": [
    {
     "ename": "KeyboardInterrupt",
     "evalue": "",
     "output_type": "error",
     "traceback": [
      "\u001b[1;31m---------------------------------------------------------------------------\u001b[0m",
      "\u001b[1;31mKeyboardInterrupt\u001b[0m                         Traceback (most recent call last)",
      "\u001b[1;32m<ipython-input-13-8c14de2e5c11>\u001b[0m in \u001b[0;36m<module>\u001b[1;34m\u001b[0m\n\u001b[0;32m     12\u001b[0m             \u001b[1;32mbreak\u001b[0m\u001b[1;33m\u001b[0m\u001b[1;33m\u001b[0m\u001b[0m\n\u001b[0;32m     13\u001b[0m         \u001b[1;32melse\u001b[0m\u001b[1;33m:\u001b[0m\u001b[1;33m\u001b[0m\u001b[1;33m\u001b[0m\u001b[0m\n\u001b[1;32m---> 14\u001b[1;33m             \u001b[0mtime\u001b[0m\u001b[1;33m.\u001b[0m\u001b[0msleep\u001b[0m\u001b[1;33m(\u001b[0m\u001b[1;36m1\u001b[0m\u001b[1;33m)\u001b[0m\u001b[1;33m\u001b[0m\u001b[1;33m\u001b[0m\u001b[0m\n\u001b[0m",
      "\u001b[1;31mKeyboardInterrupt\u001b[0m: "
     ]
    }
   ],
   "source": [
    "csv_f = pd.read_csv('ods_to8to_to8to_to8to_xiaoguotu.csv', names=['cid', 'id', 'filename'], header=None)\n",
    "\n",
    "def download_img(filename):\n",
    "    download_img_by_filename(filename)\n",
    "\n",
    "for filename in csv_f['filename'][:10]:\n",
    "    #download_img(filename)\n",
    "    while 1:\n",
    "        if len(threading.enumerate()) < 4:\n",
    "            r = threading.Thread(target=download_img, args=(filename))\n",
    "            r.start()\n",
    "            break\n",
    "        else:\n",
    "            time.sleep(1)"
   ]
  },
  {
   "cell_type": "code",
   "execution_count": 63,
   "metadata": {},
   "outputs": [
    {
     "name": "stdout",
     "output_type": "stream",
     "text": [
      "[0, 84558)\n",
      "[84558, 169116)\n",
      "[169116, 253674)\n",
      "[253674, 338233)\n"
     ]
    }
   ],
   "source": [
    "\n",
    "\n",
    "for "
   ]
  },
  {
   "cell_type": "code",
   "execution_count": 77,
   "metadata": {},
   "outputs": [
    {
     "data": {
      "text/plain": [
       "338233"
      ]
     },
     "execution_count": 77,
     "metadata": {},
     "output_type": "execute_result"
    }
   ],
   "source": [
    "csv_f.shape[0]"
   ]
  },
  {
   "cell_type": "code",
   "execution_count": 52,
   "metadata": {},
   "outputs": [
    {
     "data": {
      "text/plain": [
       "84558"
      ]
     },
     "execution_count": 52,
     "metadata": {},
     "output_type": "execute_result"
    }
   ],
   "source": [
    "step"
   ]
  },
  {
   "cell_type": "code",
   "execution_count": 84,
   "metadata": {},
   "outputs": [
    {
     "data": {
      "text/plain": [
       "84558     2014/07/08/20140708180126-756e6cd1.jpg\n",
       "84559     2014/07/08/20140708180114-ba240618.jpg\n",
       "84560     2014/07/08/20140708185857-a3d3457f.jpg\n",
       "84561     2014/07/08/20140708185828-88085168.jpg\n",
       "84562     2014/07/08/20140708200313-2b4cab65.jpg\n",
       "84563     2014/07/08/20140708200106-201497b7.jpg\n",
       "84564     2014/07/08/20140708200011-0e7264fe.jpg\n",
       "84565     2014/07/08/20140708200135-3de214f2.jpg\n",
       "84566     2014/07/08/20140708200214-d9d6d313.jpg\n",
       "84567     2014/07/08/20140708200246-bc4bdb0d.jpg\n",
       "84568     2014/07/08/20140708200405-56e5f7c6.jpg\n",
       "84569     2014/07/08/20140708214817-e5292a2b.jpg\n",
       "84570     2014/07/08/20140708214818-0e0b38a3.jpg\n",
       "84571     2014/07/08/20140708214819-c2b88688.jpg\n",
       "84572     2014/07/08/20140708214820-e7e65237.jpg\n",
       "84573     2014/07/08/20140708214821-71f3ca8f.jpg\n",
       "84574     2014/07/08/20140708214822-40373a58.jpg\n",
       "84575     2014/07/21/20140721214048-c36bac1e.jpg\n",
       "84576     2014/07/21/20140721214125-498e41b5.jpg\n",
       "84577     2014/07/21/20140721214221-b9282d22.jpg\n",
       "84578     2014/07/21/20140721214134-f294b992.jpg\n",
       "84579     2014/07/09/20140709090332-2d2c13a2.jpg\n",
       "84580     2014/07/09/20140709090334-0212f092.jpg\n",
       "84581     2014/07/09/20140709090327-6271535a.jpg\n",
       "84582     2014/07/09/20140709090328-6778073a.jpg\n",
       "84583     2014/07/09/20140709091859-3fcf06f1.jpg\n",
       "84584     2014/07/09/20140709091900-2c3dadc5.jpg\n",
       "84585     2014/07/09/20140709091901-7e45b835.jpg\n",
       "84586     2014/07/09/20140709091901-7a5dc090.jpg\n",
       "84587     2014/07/09/20140709091902-eaea5943.jpg\n",
       "                           ...                  \n",
       "169086    2017/03/13/20170313141000-6d27847e.jpg\n",
       "169087    2017/03/13/20170313140958-f27d75bb.jpg\n",
       "169088    2017/03/13/20170313140954-1d7a784f.jpg\n",
       "169089    2017/03/13/20170313141004-b62168d8.jpg\n",
       "169090    2018/05/29/20180529145218-b05e1ccc.jpg\n",
       "169091    2018/05/29/20180529145210-9f746106.jpg\n",
       "169092    2018/05/29/20180529145157-ac7b08f2.jpg\n",
       "169093    2018/05/29/20180529145106-d9ef4f84.jpg\n",
       "169094    2018/05/29/20180529145043-c56dbf6a.jpg\n",
       "169095    2018/05/29/20180529145031-fd0b5d6d.jpg\n",
       "169096    2018/05/29/20180529145011-ddc87ce8.jpg\n",
       "169097    2018/05/29/20180529145236-4b474dce.jpg\n",
       "169098    2018/10/21/20181021130546-9c0371f8.jpg\n",
       "169099    2018/10/21/20181021130624-6424d2b2.jpg\n",
       "169100    2018/10/21/20181021130622-cd014233.jpg\n",
       "169101    2018/10/21/20181021130620-9741bf53.jpg\n",
       "169102    2018/10/21/20181021130617-6ea03d07.jpg\n",
       "169103    2018/10/21/20181021130615-457cd4dc.jpg\n",
       "169104    2018/10/21/20181021130612-a09f7e14.jpg\n",
       "169105    2018/10/21/20181021130610-2a9c457f.jpg\n",
       "169106    2018/10/21/20181021130607-89539df9.jpg\n",
       "169107    2018/10/21/20181021130605-345b5ee2.jpg\n",
       "169108    2018/10/21/20181021130600-6f30f045.jpg\n",
       "169109    2018/10/21/20181021130556-6ecbefa3.jpg\n",
       "169110    2018/10/21/20181021130554-8c7de86b.jpg\n",
       "169111    2018/10/21/20181021130552-ef9d1003.jpg\n",
       "169112    2018/10/21/20181021130550-4b3763ed.jpg\n",
       "169113    2018/10/21/20181021130626-52af8951.jpg\n",
       "169114    2018/10/21/20181021130602-86aabe7d.jpg\n",
       "169115    2018/08/01/20180801123703-33e23b11.jpg\n",
       "Name: filename, Length: 84558, dtype: object"
      ]
     },
     "execution_count": 84,
     "metadata": {},
     "output_type": "execute_result"
    }
   ],
   "source": [
    "thread_dfs[1]['filename']"
   ]
  },
  {
   "cell_type": "code",
   "execution_count": null,
   "metadata": {},
   "outputs": [],
   "source": []
  }
 ],
 "metadata": {
  "kernelspec": {
   "display_name": "Python 3",
   "language": "python",
   "name": "python3"
  },
  "language_info": {
   "codemirror_mode": {
    "name": "ipython",
    "version": 3
   },
   "file_extension": ".py",
   "mimetype": "text/x-python",
   "name": "python",
   "nbconvert_exporter": "python",
   "pygments_lexer": "ipython3",
   "version": "3.6.8"
  }
 },
 "nbformat": 4,
 "nbformat_minor": 2
}
