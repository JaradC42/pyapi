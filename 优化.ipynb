{
 "cells": [
  {
   "cell_type": "code",
   "execution_count": 1,
   "metadata": {},
   "outputs": [],
   "source": [
    "from piquery.piquery import PIQBuilder\n",
    "from piquery.piqdb import MysqlDb, Mysql\n",
    "import requests\n",
    "from time import time"
   ]
  },
  {
   "cell_type": "code",
   "execution_count": 2,
   "metadata": {},
   "outputs": [],
   "source": [
    "db_cfg = {\n",
    "  'host': '192.168.11.112',\n",
    "  'user': 'to8to',\n",
    "  'passwd': 'to8to123',\n",
    "  'db': 't8t-bi-report',\n",
    "  'table': 'case_art_image_distinct', # case_art_image_distinct\n",
    "  'table_log': 'case_art_image_distinct_log_test' # case_art_image_distinct_log\n",
    "}\n",
    "\n",
    "db = MysqlDb(host=db_cfg['host'], user=db_cfg['user'], passwd=db_cfg['passwd'], db=db_cfg['db'])"
   ]
  },
  {
   "cell_type": "code",
   "execution_count": 3,
   "metadata": {},
   "outputs": [
    {
     "name": "stdout",
     "output_type": "stream",
     "text": [
      "cost time : 321.7602062225342\n"
     ]
    }
   ],
   "source": [
    "_hash = 'eee0'\n",
    "start_time = time()\n",
    "sql = 'select * from {} where hash = \"{}\"'.format(db_cfg['table'], _hash)\n",
    "hash_df = db.read_sql(sql)\n",
    "print('cost time : {}'.format(time() - start_time))"
   ]
  },
  {
   "cell_type": "code",
   "execution_count": 14,
   "metadata": {},
   "outputs": [
    {
     "data": {
      "text/plain": [
       "(455547, 8)"
      ]
     },
     "execution_count": 14,
     "metadata": {},
     "output_type": "execute_result"
    }
   ],
   "source": [
    "hash_df.shape"
   ]
  },
  {
   "cell_type": "code",
   "execution_count": 5,
   "metadata": {},
   "outputs": [],
   "source": [
    "db2 = Mysql(host=db_cfg['host'], user=db_cfg['user'], passwd=db_cfg['passwd'], db=db_cfg['db'])"
   ]
  },
  {
   "cell_type": "code",
   "execution_count": 17,
   "metadata": {},
   "outputs": [
    {
     "name": "stdout",
     "output_type": "stream",
     "text": [
      "cost time : 503.99164724349976\n"
     ]
    }
   ],
   "source": [
    "start_time = time()\n",
    "db2.execute(sql)\n",
    "print('cost time : {}'.format(time() - start_time))"
   ]
  },
  {
   "cell_type": "code",
   "execution_count": 18,
   "metadata": {},
   "outputs": [
    {
     "name": "stdout",
     "output_type": "stream",
     "text": [
      "cost time : 0.0\n"
     ]
    }
   ],
   "source": [
    "start_time = time()\n",
    "res = db2.cursor.fetchall()\n",
    "print('cost time : {}'.format(time() - start_time))"
   ]
  },
  {
   "cell_type": "code",
   "execution_count": 20,
   "metadata": {},
   "outputs": [
    {
     "data": {
      "text/plain": [
       "455547"
      ]
     },
     "execution_count": 20,
     "metadata": {},
     "output_type": "execute_result"
    }
   ],
   "source": [
    "len(res)"
   ]
  },
  {
   "cell_type": "code",
   "execution_count": 7,
   "metadata": {},
   "outputs": [
    {
     "name": "stdout",
     "output_type": "stream",
     "text": [
      "cost time : 1.6344904899597168\n"
     ]
    }
   ],
   "source": [
    "start_time = time()\n",
    "db2.execute('SELECT count(*) FROM case_art_image_distinct WHERE HASH = \"eee0\" AND delete_time IS NULL')\n",
    "print('cost time : {}'.format(time() - start_time))"
   ]
  },
  {
   "cell_type": "code",
   "execution_count": 25,
   "metadata": {},
   "outputs": [],
   "source": [
    "url = 'https://pic.to8to.com/case/1806/12/20180612_1e508903a061a1f47830mgof4hd3ivob.gif'\n",
    "\n",
    "headers = { 'user-agent':'Mozilla/5.0 (Windows NT 10.0; Win64; x64) AppleWebKit/537.36 (KHTML, like Gecko) Chrome/74.0.3729.157 Safari/537.36' }\n",
    "\n",
    "res = requests.get(url, timeout=3.0, headers=headers)"
   ]
  }
 ],
 "metadata": {
  "kernelspec": {
   "display_name": "Python 3",
   "language": "python",
   "name": "python3"
  },
  "language_info": {
   "codemirror_mode": {
    "name": "ipython",
    "version": 3
   },
   "file_extension": ".py",
   "mimetype": "text/x-python",
   "name": "python",
   "nbconvert_exporter": "python",
   "pygments_lexer": "ipython3",
   "version": "3.6.8"
  }
 },
 "nbformat": 4,
 "nbformat_minor": 2
}
