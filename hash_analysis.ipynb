{
 "cells": [
  {
   "cell_type": "code",
   "execution_count": 1,
   "metadata": {},
   "outputs": [],
   "source": [
    "from piquery.piquery import PIQBuilder\n",
    "import matplotlib.pyplot as plt\n",
    "%matplotlib inline"
   ]
  },
  {
   "cell_type": "code",
   "execution_count": 2,
   "metadata": {},
   "outputs": [],
   "source": [
    "db = PIQBuilder.buildDb()"
   ]
  },
  {
   "cell_type": "code",
   "execution_count": 6,
   "metadata": {},
   "outputs": [
    {
     "name": "stdout",
     "output_type": "stream",
     "text": [
      "query db cost time: 354.44176483154297\n"
     ]
    }
   ],
   "source": [
    "from time import time\n",
    "\n",
    "start_time = time()\n",
    "\n",
    "df = db.read_sql('SELECT `hash`, COUNT(*) AS hash_num FROM case_art_image_distinct GROUP BY `hash` ORDER BY hash_num DESC')\n",
    "\n",
    "print('query db cost time: {}'.format(time() - start_time))"
   ]
  },
  {
   "cell_type": "code",
   "execution_count": 7,
   "metadata": {},
   "outputs": [
    {
     "data": {
      "text/plain": [
       "(38078, 2)"
      ]
     },
     "execution_count": 7,
     "metadata": {},
     "output_type": "execute_result"
    }
   ],
   "source": [
    "df.shape"
   ]
  },
  {
   "cell_type": "code",
   "execution_count": 289,
   "metadata": {},
   "outputs": [
    {
     "data": {
      "text/plain": [
       "['eee0',\n",
       " 'eec0',\n",
       " 'ee60',\n",
       " 'ee40',\n",
       " 'ef60',\n",
       " '6e60',\n",
       " 'ee80',\n",
       " 'ef40',\n",
       " 'eea0',\n",
       " 'efc0',\n",
       " '6ee0',\n",
       " 'efe0',\n",
       " 'cee0',\n",
       " 'cec0',\n",
       " 'ee20',\n",
       " 'ee00',\n",
       " 'ef00',\n",
       " 'ef80']"
      ]
     },
     "execution_count": 289,
     "metadata": {},
     "output_type": "execute_result"
    }
   ],
   "source": [
    "list(df[df.hash_num > 50000].index)"
   ]
  },
  {
   "cell_type": "code",
   "execution_count": 36,
   "metadata": {},
   "outputs": [
    {
     "data": {
      "text/plain": [
       "8113104"
      ]
     },
     "execution_count": 36,
     "metadata": {},
     "output_type": "execute_result"
    }
   ],
   "source": [
    "df['hash_num'].sum()"
   ]
  },
  {
   "cell_type": "code",
   "execution_count": 35,
   "metadata": {},
   "outputs": [
    {
     "data": {
      "text/html": [
       "<div>\n",
       "<style scoped>\n",
       "    .dataframe tbody tr th:only-of-type {\n",
       "        vertical-align: middle;\n",
       "    }\n",
       "\n",
       "    .dataframe tbody tr th {\n",
       "        vertical-align: top;\n",
       "    }\n",
       "\n",
       "    .dataframe thead th {\n",
       "        text-align: right;\n",
       "    }\n",
       "</style>\n",
       "<table border=\"1\" class=\"dataframe\">\n",
       "  <thead>\n",
       "    <tr style=\"text-align: right;\">\n",
       "      <th></th>\n",
       "      <th>hash_num</th>\n",
       "    </tr>\n",
       "    <tr>\n",
       "      <th>hash</th>\n",
       "      <th></th>\n",
       "    </tr>\n",
       "  </thead>\n",
       "  <tbody>\n",
       "    <tr>\n",
       "      <th>eee0</th>\n",
       "      <td>455553</td>\n",
       "    </tr>\n",
       "    <tr>\n",
       "      <th>eec0</th>\n",
       "      <td>334067</td>\n",
       "    </tr>\n",
       "    <tr>\n",
       "      <th>ee60</th>\n",
       "      <td>316051</td>\n",
       "    </tr>\n",
       "    <tr>\n",
       "      <th>ee40</th>\n",
       "      <td>196897</td>\n",
       "    </tr>\n",
       "    <tr>\n",
       "      <th>ef60</th>\n",
       "      <td>103654</td>\n",
       "    </tr>\n",
       "    <tr>\n",
       "      <th>6e60</th>\n",
       "      <td>101967</td>\n",
       "    </tr>\n",
       "    <tr>\n",
       "      <th>ee80</th>\n",
       "      <td>98925</td>\n",
       "    </tr>\n",
       "    <tr>\n",
       "      <th>ef40</th>\n",
       "      <td>98337</td>\n",
       "    </tr>\n",
       "    <tr>\n",
       "      <th>eea0</th>\n",
       "      <td>96725</td>\n",
       "    </tr>\n",
       "    <tr>\n",
       "      <th>efc0</th>\n",
       "      <td>95596</td>\n",
       "    </tr>\n",
       "    <tr>\n",
       "      <th>6ee0</th>\n",
       "      <td>95551</td>\n",
       "    </tr>\n",
       "    <tr>\n",
       "      <th>efe0</th>\n",
       "      <td>83837</td>\n",
       "    </tr>\n",
       "    <tr>\n",
       "      <th>cee0</th>\n",
       "      <td>80242</td>\n",
       "    </tr>\n",
       "    <tr>\n",
       "      <th>cec0</th>\n",
       "      <td>80016</td>\n",
       "    </tr>\n",
       "    <tr>\n",
       "      <th>ee20</th>\n",
       "      <td>78657</td>\n",
       "    </tr>\n",
       "    <tr>\n",
       "      <th>ee00</th>\n",
       "      <td>63226</td>\n",
       "    </tr>\n",
       "    <tr>\n",
       "      <th>ef00</th>\n",
       "      <td>57442</td>\n",
       "    </tr>\n",
       "    <tr>\n",
       "      <th>ef80</th>\n",
       "      <td>50961</td>\n",
       "    </tr>\n",
       "  </tbody>\n",
       "</table>\n",
       "</div>"
      ],
      "text/plain": [
       "      hash_num\n",
       "hash          \n",
       "eee0    455553\n",
       "eec0    334067\n",
       "ee60    316051\n",
       "ee40    196897\n",
       "ef60    103654\n",
       "6e60    101967\n",
       "ee80     98925\n",
       "ef40     98337\n",
       "eea0     96725\n",
       "efc0     95596\n",
       "6ee0     95551\n",
       "efe0     83837\n",
       "cee0     80242\n",
       "cec0     80016\n",
       "ee20     78657\n",
       "ee00     63226\n",
       "ef00     57442\n",
       "ef80     50961"
      ]
     },
     "execution_count": 35,
     "metadata": {},
     "output_type": "execute_result"
    }
   ],
   "source": [
    "df.loc[df.hash_num > 50000]"
   ]
  },
  {
   "cell_type": "code",
   "execution_count": 30,
   "metadata": {},
   "outputs": [],
   "source": [
    "df.set_index('hash', inplace=True)"
   ]
  },
  {
   "cell_type": "code",
   "execution_count": 33,
   "metadata": {},
   "outputs": [
    {
     "data": {
      "text/plain": [
       "<matplotlib.axes._subplots.AxesSubplot at 0x206bf8a4d30>"
      ]
     },
     "execution_count": 33,
     "metadata": {},
     "output_type": "execute_result"
    }
   ],
   "source": [
    "df['hash_num'].plot.pie()"
   ]
  },
  {
   "cell_type": "code",
   "execution_count": 143,
   "metadata": {},
   "outputs": [],
   "source": [
    "def split_df(sl):\n",
    "    total = df['hash_num'].sum()\n",
    "\n",
    "    df1 = df.loc[df.hash_num > sl]\n",
    "    num1 = df1['hash_num'].sum()\n",
    "\n",
    "    # hash_num1 = df1.shape[0]\n",
    "    # hash_total = df.shape[0]\n",
    "\n",
    "    df2 = df.loc[~(df.hash_num > sl)]\n",
    "    num2 = df2['hash_num'].sum()\n",
    "    # hash_num2 = df2.shape[0]\n",
    "\n",
    "    others = pd.DataFrame({ 'hash_num': [int(num2)] }, index=['others'])\n",
    "\n",
    "    print('total: {}\\n'.format(total))\n",
    "    print('> {}:\\n\\t{}\\tpercent: {}%\\nothers:\\n\\t{}\\tpercent: {}%'.format(sl, num1, round(100*num1/total, 3), num2, round(100*num2/total, 3)))\n",
    "    return df1.append(others)\n",
    "    # return num1/total, hash_num1/hash_total, num2/total, hash_num2/hash_total"
   ]
  },
  {
   "cell_type": "code",
   "execution_count": 175,
   "metadata": {
    "scrolled": true
   },
   "outputs": [
    {
     "name": "stdout",
     "output_type": "stream",
     "text": [
      "total: 8113104\n",
      "\n",
      "> 125000:\n",
      "\t1302568\tpercent: 16.055%\n",
      "others:\n",
      "\t6810536\tpercent: 83.945%\n"
     ]
    },
    {
     "data": {
      "image/png": "[encoded data removed]",
      "text/plain": [
       "<Figure size 432x288 with 1 Axes>"
      ]
     },
     "metadata": {
      "needs_background": "light"
     },
     "output_type": "display_data"
    }
   ],
   "source": [
    "# split_df(125000)['hash_num'].plot.pie(figsize=(8, 8), fontsize=20, autopct='%.1f%%')\n",
    "split_df(125000)['hash_num'].plot.hist()\n",
    "plt.show()"
   ]
  },
  {
   "cell_type": "code",
   "execution_count": 109,
   "metadata": {},
   "outputs": [
    {
     "data": {
      "text/html": [
       "<div>\n",
       "<style scoped>\n",
       "    .dataframe tbody tr th:only-of-type {\n",
       "        vertical-align: middle;\n",
       "    }\n",
       "\n",
       "    .dataframe tbody tr th {\n",
       "        vertical-align: top;\n",
       "    }\n",
       "\n",
       "    .dataframe thead th {\n",
       "        text-align: right;\n",
       "    }\n",
       "</style>\n",
       "<table border=\"1\" class=\"dataframe\">\n",
       "  <thead>\n",
       "    <tr style=\"text-align: right;\">\n",
       "      <th></th>\n",
       "      <th>hash_num</th>\n",
       "    </tr>\n",
       "  </thead>\n",
       "  <tbody>\n",
       "    <tr>\n",
       "      <th>others</th>\n",
       "      <td>6604915</td>\n",
       "    </tr>\n",
       "  </tbody>\n",
       "</table>\n",
       "</div>"
      ],
      "text/plain": [
       "        hash_num\n",
       "others   6604915"
      ]
     },
     "execution_count": 109,
     "metadata": {},
     "output_type": "execute_result"
    }
   ],
   "source": [
    "others = pd.DataFrame({ 'hash_num': [int(df.loc[~(df.hash_num > 100000)]['hash_num'].sum())] }, index=['others'])\n",
    "\n",
    "others"
   ]
  },
  {
   "cell_type": "code",
   "execution_count": 94,
   "metadata": {},
   "outputs": [
    {
     "data": {
      "text/plain": [
       "hash\n",
       "ee80    98925\n",
       "ef40    98337\n",
       "eea0    96725\n",
       "efc0    95596\n",
       "6ee0    95551\n",
       "efe0    83837\n",
       "cee0    80242\n",
       "cec0    80016\n",
       "ee20    78657\n",
       "ee00    63226\n",
       "ef00    57442\n",
       "ef80    50961\n",
       "e660    49322\n",
       "ef20    48385\n",
       "6f60    46635\n",
       "ecc0    43609\n",
       "6ec0    40640\n",
       "ece0    40402\n",
       "eec4    37063\n",
       "efa0    36412\n",
       "e6e0    34042\n",
       "6e40    31869\n",
       "4ee0    30088\n",
       "ee44    29804\n",
       "ee64    29182\n",
       "ce60    28628\n",
       "6fe0    27501\n",
       "ee84    26960\n",
       "eee4    26933\n",
       "ce40    26104\n",
       "        ...  \n",
       "96f7        1\n",
       "c4d7        1\n",
       "841d        1\n",
       "7f2e        1\n",
       "e5d3        1\n",
       "2c25        1\n",
       "3553        1\n",
       "2b83        1\n",
       "a7ed        1\n",
       "53e1        1\n",
       "b02d        1\n",
       "2d8b        1\n",
       "3449        1\n",
       "353e        1\n",
       "c94a        1\n",
       "7637        1\n",
       "b070        1\n",
       "fd5d        1\n",
       "4297        1\n",
       "1719        1\n",
       "a862        1\n",
       "604c        1\n",
       "f81c        1\n",
       "5ede        1\n",
       "7db1        1\n",
       "7e99        1\n",
       "d85c        1\n",
       "05bc        1\n",
       "e122        1\n",
       "5ad2        1\n",
       "Name: hash_num, Length: 38072, dtype: int64"
      ]
     },
     "execution_count": 94,
     "metadata": {},
     "output_type": "execute_result"
    }
   ],
   "source": [
    "df.loc[~(df.hash_num > 100000)]['hash_num']"
   ]
  },
  {
   "cell_type": "code",
   "execution_count": 177,
   "metadata": {},
   "outputs": [
    {
     "data": {
      "text/plain": [
       "15"
      ]
     },
     "execution_count": 177,
     "metadata": {},
     "output_type": "execute_result"
    }
   ],
   "source": [
    "int('f', 16)"
   ]
  },
  {
   "cell_type": "code",
   "execution_count": 182,
   "metadata": {},
   "outputs": [
    {
     "data": {
      "text/plain": [
       "0.581024169921875"
      ]
     },
     "execution_count": 182,
     "metadata": {},
     "output_type": "execute_result"
    }
   ],
   "source": [
    "df.shape[0] / 65536"
   ]
  },
  {
   "cell_type": "code",
   "execution_count": 188,
   "metadata": {},
   "outputs": [
    {
     "name": "stdout",
     "output_type": "stream",
     "text": [
      "0\n",
      "2000\n",
      "4000\n",
      "6000\n",
      "8000\n",
      "10000\n",
      "12000\n",
      "14000\n",
      "16000\n",
      "18000\n",
      "20000\n",
      "22000\n",
      "24000\n",
      "26000\n",
      "28000\n",
      "30000\n",
      "32000\n",
      "34000\n",
      "36000\n",
      "38000\n",
      "40000\n",
      "42000\n",
      "44000\n",
      "46000\n",
      "48000\n",
      "50000\n",
      "52000\n",
      "54000\n",
      "56000\n",
      "58000\n",
      "60000\n",
      "62000\n",
      "64000\n"
     ]
    }
   ],
   "source": [
    "for i in range(0, int('ffff', 16), 2000):\n",
    "    print(i)"
   ]
  },
  {
   "cell_type": "code",
   "execution_count": 203,
   "metadata": {},
   "outputs": [],
   "source": [
    "# df.loc[df.index]\n",
    "df.insert(0, 'hash_int', [int(h, 16) for h in list(df.index)])"
   ]
  },
  {
   "cell_type": "code",
   "execution_count": 195,
   "metadata": {},
   "outputs": [
    {
     "data": {
      "text/plain": [
       "61024"
      ]
     },
     "execution_count": 195,
     "metadata": {},
     "output_type": "execute_result"
    }
   ],
   "source": [
    "int(df.index[2], 16)"
   ]
  },
  {
   "cell_type": "code",
   "execution_count": 202,
   "metadata": {},
   "outputs": [
    {
     "data": {
      "text/plain": [
       "['hash_num']"
      ]
     },
     "execution_count": 202,
     "metadata": {},
     "output_type": "execute_result"
    }
   ],
   "source": [
    "df.columns.tolist()"
   ]
  },
  {
   "cell_type": "code",
   "execution_count": 206,
   "metadata": {},
   "outputs": [],
   "source": [
    "df.to_csv('hash_distribute_int.csv')"
   ]
  },
  {
   "cell_type": "code",
   "execution_count": 205,
   "metadata": {},
   "outputs": [
    {
     "data": {
      "text/plain": [
       "60928"
      ]
     },
     "execution_count": 205,
     "metadata": {},
     "output_type": "execute_result"
    }
   ],
   "source": [
    "int('ee00', 16)"
   ]
  },
  {
   "cell_type": "code",
   "execution_count": 207,
   "metadata": {},
   "outputs": [
    {
     "data": {
      "text/html": [
       "<div>\n",
       "<style scoped>\n",
       "    .dataframe tbody tr th:only-of-type {\n",
       "        vertical-align: middle;\n",
       "    }\n",
       "\n",
       "    .dataframe tbody tr th {\n",
       "        vertical-align: top;\n",
       "    }\n",
       "\n",
       "    .dataframe thead th {\n",
       "        text-align: right;\n",
       "    }\n",
       "</style>\n",
       "<table border=\"1\" class=\"dataframe\">\n",
       "  <thead>\n",
       "    <tr style=\"text-align: right;\">\n",
       "      <th></th>\n",
       "      <th>hash_int</th>\n",
       "      <th>hash_num</th>\n",
       "    </tr>\n",
       "    <tr>\n",
       "      <th>hash</th>\n",
       "      <th></th>\n",
       "      <th></th>\n",
       "    </tr>\n",
       "  </thead>\n",
       "  <tbody>\n",
       "    <tr>\n",
       "      <th>eee0</th>\n",
       "      <td>61152</td>\n",
       "      <td>455553</td>\n",
       "    </tr>\n",
       "    <tr>\n",
       "      <th>eec0</th>\n",
       "      <td>61120</td>\n",
       "      <td>334067</td>\n",
       "    </tr>\n",
       "    <tr>\n",
       "      <th>ee60</th>\n",
       "      <td>61024</td>\n",
       "      <td>316051</td>\n",
       "    </tr>\n",
       "    <tr>\n",
       "      <th>ee40</th>\n",
       "      <td>60992</td>\n",
       "      <td>196897</td>\n",
       "    </tr>\n",
       "    <tr>\n",
       "      <th>ef60</th>\n",
       "      <td>61280</td>\n",
       "      <td>103654</td>\n",
       "    </tr>\n",
       "  </tbody>\n",
       "</table>\n",
       "</div>"
      ],
      "text/plain": [
       "      hash_int  hash_num\n",
       "hash                    \n",
       "eee0     61152    455553\n",
       "eec0     61120    334067\n",
       "ee60     61024    316051\n",
       "ee40     60992    196897\n",
       "ef60     61280    103654"
      ]
     },
     "execution_count": 207,
     "metadata": {},
     "output_type": "execute_result"
    }
   ],
   "source": [
    "df.head()"
   ]
  },
  {
   "cell_type": "code",
   "execution_count": 228,
   "metadata": {},
   "outputs": [],
   "source": [
    "def hash_dist(rg):\n",
    "    s =  rg[1] - rg[0]\n",
    "    hash_range = list()\n",
    "    hash_num = list()\n",
    "    for b in rg:\n",
    "        ct = df[(df.hash_int>=b) & (df.hash_int<(b+s))]['hash_num'].sum()\n",
    "        hash_range.append('{}-{}'.format(b, b+s))\n",
    "        hash_num.append(ct)\n",
    "    return pd.DataFrame(dict(hash_range=hash_range, hash_num=hash_num))"
   ]
  },
  {
   "cell_type": "code",
   "execution_count": 232,
   "metadata": {},
   "outputs": [],
   "source": [
    "df_hash_dist = hash_dist(range(0, int('ffff', 16), 2000))"
   ]
  },
  {
   "cell_type": "code",
   "execution_count": 234,
   "metadata": {},
   "outputs": [
    {
     "data": {
      "text/plain": [
       "8113104"
      ]
     },
     "execution_count": 234,
     "metadata": {},
     "output_type": "execute_result"
    }
   ],
   "source": [
    "df_hash_dist['hash_num'].sum()"
   ]
  },
  {
   "cell_type": "code",
   "execution_count": 237,
   "metadata": {},
   "outputs": [],
   "source": [
    "df_hash_dist['percent'] = df_hash_dist['hash_num'].apply(lambda x:round(x*100/8113104, 2))"
   ]
  },
  {
   "cell_type": "code",
   "execution_count": 283,
   "metadata": {},
   "outputs": [
    {
     "data": {
      "text/html": [
       "<div>\n",
       "<style scoped>\n",
       "    .dataframe tbody tr th:only-of-type {\n",
       "        vertical-align: middle;\n",
       "    }\n",
       "\n",
       "    .dataframe tbody tr th {\n",
       "        vertical-align: top;\n",
       "    }\n",
       "\n",
       "    .dataframe thead th {\n",
       "        text-align: right;\n",
       "    }\n",
       "</style>\n",
       "<table border=\"1\" class=\"dataframe\">\n",
       "  <thead>\n",
       "    <tr style=\"text-align: right;\">\n",
       "      <th></th>\n",
       "      <th>range_hex</th>\n",
       "      <th>hash_range</th>\n",
       "      <th>hash_num</th>\n",
       "      <th>percent</th>\n",
       "    </tr>\n",
       "  </thead>\n",
       "  <tbody>\n",
       "    <tr>\n",
       "      <th>30</th>\n",
       "      <td>EA60-F230</td>\n",
       "      <td>60000-62000</td>\n",
       "      <td>3701383</td>\n",
       "      <td>45.62</td>\n",
       "    </tr>\n",
       "    <tr>\n",
       "      <th>14</th>\n",
       "      <td>6D60-7530</td>\n",
       "      <td>28000-30000</td>\n",
       "      <td>833897</td>\n",
       "      <td>10.28</td>\n",
       "    </tr>\n",
       "    <tr>\n",
       "      <th>26</th>\n",
       "      <td>CB20-D2F0</td>\n",
       "      <td>52000-54000</td>\n",
       "      <td>730334</td>\n",
       "      <td>9.00</td>\n",
       "    </tr>\n",
       "    <tr>\n",
       "      <th>29</th>\n",
       "      <td>E290-EA60</td>\n",
       "      <td>58000-60000</td>\n",
       "      <td>557120</td>\n",
       "      <td>6.87</td>\n",
       "    </tr>\n",
       "    <tr>\n",
       "      <th>32</th>\n",
       "      <td>FA00-FFFF</td>\n",
       "      <td>64000-66000</td>\n",
       "      <td>376372</td>\n",
       "      <td>4.64</td>\n",
       "    </tr>\n",
       "    <tr>\n",
       "      <th>13</th>\n",
       "      <td>6590-6D60</td>\n",
       "      <td>26000-28000</td>\n",
       "      <td>311264</td>\n",
       "      <td>3.84</td>\n",
       "    </tr>\n",
       "    <tr>\n",
       "      <th>10</th>\n",
       "      <td>4E20-55F0</td>\n",
       "      <td>20000-22000</td>\n",
       "      <td>241650</td>\n",
       "      <td>2.98</td>\n",
       "    </tr>\n",
       "    <tr>\n",
       "      <th>28</th>\n",
       "      <td>DAC0-E290</td>\n",
       "      <td>56000-58000</td>\n",
       "      <td>117442</td>\n",
       "      <td>1.45</td>\n",
       "    </tr>\n",
       "    <tr>\n",
       "      <th>1</th>\n",
       "      <td>07D0-0FA0</td>\n",
       "      <td>2000-4000</td>\n",
       "      <td>109761</td>\n",
       "      <td>1.35</td>\n",
       "    </tr>\n",
       "    <tr>\n",
       "      <th>22</th>\n",
       "      <td>ABE0-B3B0</td>\n",
       "      <td>44000-46000</td>\n",
       "      <td>102207</td>\n",
       "      <td>1.26</td>\n",
       "    </tr>\n",
       "    <tr>\n",
       "      <th>16</th>\n",
       "      <td>7D00-84D0</td>\n",
       "      <td>32000-34000</td>\n",
       "      <td>100573</td>\n",
       "      <td>1.24</td>\n",
       "    </tr>\n",
       "    <tr>\n",
       "      <th>31</th>\n",
       "      <td>F230-FA00</td>\n",
       "      <td>62000-64000</td>\n",
       "      <td>99690</td>\n",
       "      <td>1.23</td>\n",
       "    </tr>\n",
       "    <tr>\n",
       "      <th>25</th>\n",
       "      <td>C350-CB20</td>\n",
       "      <td>50000-52000</td>\n",
       "      <td>94947</td>\n",
       "      <td>1.17</td>\n",
       "    </tr>\n",
       "    <tr>\n",
       "      <th>9</th>\n",
       "      <td>4650-4E20</td>\n",
       "      <td>18000-20000</td>\n",
       "      <td>92743</td>\n",
       "      <td>1.14</td>\n",
       "    </tr>\n",
       "    <tr>\n",
       "      <th>18</th>\n",
       "      <td>8CA0-9470</td>\n",
       "      <td>36000-38000</td>\n",
       "      <td>75801</td>\n",
       "      <td>0.93</td>\n",
       "    </tr>\n",
       "    <tr>\n",
       "      <th>15</th>\n",
       "      <td>7530-7D00</td>\n",
       "      <td>30000-32000</td>\n",
       "      <td>71404</td>\n",
       "      <td>0.88</td>\n",
       "    </tr>\n",
       "    <tr>\n",
       "      <th>12</th>\n",
       "      <td>5DC0-6590</td>\n",
       "      <td>24000-26000</td>\n",
       "      <td>66519</td>\n",
       "      <td>0.82</td>\n",
       "    </tr>\n",
       "    <tr>\n",
       "      <th>5</th>\n",
       "      <td>2710-2EE0</td>\n",
       "      <td>10000-12000</td>\n",
       "      <td>47186</td>\n",
       "      <td>0.58</td>\n",
       "    </tr>\n",
       "    <tr>\n",
       "      <th>0</th>\n",
       "      <td>0000-07D0</td>\n",
       "      <td>0-2000</td>\n",
       "      <td>44383</td>\n",
       "      <td>0.55</td>\n",
       "    </tr>\n",
       "    <tr>\n",
       "      <th>6</th>\n",
       "      <td>2EE0-36B0</td>\n",
       "      <td>12000-14000</td>\n",
       "      <td>43618</td>\n",
       "      <td>0.54</td>\n",
       "    </tr>\n",
       "    <tr>\n",
       "      <th>24</th>\n",
       "      <td>BB80-C350</td>\n",
       "      <td>48000-50000</td>\n",
       "      <td>35341</td>\n",
       "      <td>0.44</td>\n",
       "    </tr>\n",
       "    <tr>\n",
       "      <th>8</th>\n",
       "      <td>3E80-4650</td>\n",
       "      <td>16000-18000</td>\n",
       "      <td>34574</td>\n",
       "      <td>0.43</td>\n",
       "    </tr>\n",
       "    <tr>\n",
       "      <th>2</th>\n",
       "      <td>0FA0-1770</td>\n",
       "      <td>4000-6000</td>\n",
       "      <td>32961</td>\n",
       "      <td>0.41</td>\n",
       "    </tr>\n",
       "    <tr>\n",
       "      <th>4</th>\n",
       "      <td>1F40-2710</td>\n",
       "      <td>8000-10000</td>\n",
       "      <td>27740</td>\n",
       "      <td>0.34</td>\n",
       "    </tr>\n",
       "    <tr>\n",
       "      <th>20</th>\n",
       "      <td>9C40-A410</td>\n",
       "      <td>40000-42000</td>\n",
       "      <td>26777</td>\n",
       "      <td>0.33</td>\n",
       "    </tr>\n",
       "    <tr>\n",
       "      <th>21</th>\n",
       "      <td>A410-ABE0</td>\n",
       "      <td>42000-44000</td>\n",
       "      <td>22942</td>\n",
       "      <td>0.28</td>\n",
       "    </tr>\n",
       "    <tr>\n",
       "      <th>11</th>\n",
       "      <td>55F0-5DC0</td>\n",
       "      <td>22000-24000</td>\n",
       "      <td>22159</td>\n",
       "      <td>0.27</td>\n",
       "    </tr>\n",
       "    <tr>\n",
       "      <th>27</th>\n",
       "      <td>D2F0-DAC0</td>\n",
       "      <td>54000-56000</td>\n",
       "      <td>21286</td>\n",
       "      <td>0.26</td>\n",
       "    </tr>\n",
       "    <tr>\n",
       "      <th>7</th>\n",
       "      <td>36B0-3E80</td>\n",
       "      <td>14000-16000</td>\n",
       "      <td>19367</td>\n",
       "      <td>0.24</td>\n",
       "    </tr>\n",
       "    <tr>\n",
       "      <th>17</th>\n",
       "      <td>84D0-8CA0</td>\n",
       "      <td>34000-36000</td>\n",
       "      <td>18304</td>\n",
       "      <td>0.23</td>\n",
       "    </tr>\n",
       "    <tr>\n",
       "      <th>3</th>\n",
       "      <td>1770-1F40</td>\n",
       "      <td>6000-8000</td>\n",
       "      <td>17067</td>\n",
       "      <td>0.21</td>\n",
       "    </tr>\n",
       "    <tr>\n",
       "      <th>23</th>\n",
       "      <td>B3B0-BB80</td>\n",
       "      <td>46000-48000</td>\n",
       "      <td>10738</td>\n",
       "      <td>0.13</td>\n",
       "    </tr>\n",
       "    <tr>\n",
       "      <th>19</th>\n",
       "      <td>9470-9C40</td>\n",
       "      <td>38000-40000</td>\n",
       "      <td>5554</td>\n",
       "      <td>0.07</td>\n",
       "    </tr>\n",
       "  </tbody>\n",
       "</table>\n",
       "</div>"
      ],
      "text/plain": [
       "    range_hex   hash_range  hash_num  percent\n",
       "30  EA60-F230  60000-62000   3701383    45.62\n",
       "14  6D60-7530  28000-30000    833897    10.28\n",
       "26  CB20-D2F0  52000-54000    730334     9.00\n",
       "29  E290-EA60  58000-60000    557120     6.87\n",
       "32  FA00-FFFF  64000-66000    376372     4.64\n",
       "13  6590-6D60  26000-28000    311264     3.84\n",
       "10  4E20-55F0  20000-22000    241650     2.98\n",
       "28  DAC0-E290  56000-58000    117442     1.45\n",
       "1   07D0-0FA0    2000-4000    109761     1.35\n",
       "22  ABE0-B3B0  44000-46000    102207     1.26\n",
       "16  7D00-84D0  32000-34000    100573     1.24\n",
       "31  F230-FA00  62000-64000     99690     1.23\n",
       "25  C350-CB20  50000-52000     94947     1.17\n",
       "9   4650-4E20  18000-20000     92743     1.14\n",
       "18  8CA0-9470  36000-38000     75801     0.93\n",
       "15  7530-7D00  30000-32000     71404     0.88\n",
       "12  5DC0-6590  24000-26000     66519     0.82\n",
       "5   2710-2EE0  10000-12000     47186     0.58\n",
       "0   0000-07D0       0-2000     44383     0.55\n",
       "6   2EE0-36B0  12000-14000     43618     0.54\n",
       "24  BB80-C350  48000-50000     35341     0.44\n",
       "8   3E80-4650  16000-18000     34574     0.43\n",
       "2   0FA0-1770    4000-6000     32961     0.41\n",
       "4   1F40-2710   8000-10000     27740     0.34\n",
       "20  9C40-A410  40000-42000     26777     0.33\n",
       "21  A410-ABE0  42000-44000     22942     0.28\n",
       "11  55F0-5DC0  22000-24000     22159     0.27\n",
       "27  D2F0-DAC0  54000-56000     21286     0.26\n",
       "7   36B0-3E80  14000-16000     19367     0.24\n",
       "17  84D0-8CA0  34000-36000     18304     0.23\n",
       "3   1770-1F40    6000-8000     17067     0.21\n",
       "23  B3B0-BB80  46000-48000     10738     0.13\n",
       "19  9470-9C40  38000-40000      5554     0.07"
      ]
     },
     "execution_count": 283,
     "metadata": {},
     "output_type": "execute_result"
    }
   ],
   "source": [
    "df_hash_dist.sort_values('percent', ascending = False)"
   ]
  },
  {
   "cell_type": "code",
   "execution_count": 282,
   "metadata": {},
   "outputs": [
    {
     "data": {
      "text/plain": [
       "<matplotlib.axes._subplots.AxesSubplot at 0x206eb0d62e8>"
      ]
     },
     "execution_count": 282,
     "metadata": {},
     "output_type": "execute_result"
    },
    {
     "data": {
      "image/png": "[encoded data removed]",
      "text/plain": [
       "<Figure size 576x576 with 1 Axes>"
      ]
     },
     "metadata": {
      "needs_background": "light"
     },
     "output_type": "display_data"
    }
   ],
   "source": [
    "# df_hash_dist.plot(x='hash_range', y='percent', style='or-', grid = True, figsize=(12, 12))\n",
    "df_hash_dist.plot(kind = 'bar', x='range_hex', y='percent', grid = True, figsize=(8, 8))"
   ]
  },
  {
   "cell_type": "code",
   "execution_count": 292,
   "metadata": {},
   "outputs": [],
   "source": [
    "df_hash_dist.to_csv('hash_range_distribute.csv', index=False)"
   ]
  },
  {
   "cell_type": "code",
   "execution_count": 266,
   "metadata": {},
   "outputs": [
    {
     "data": {
      "text/plain": [
       "['0000-07d0',\n",
       " '07d0-0fa0',\n",
       " '0fa0-1770',\n",
       " '1770-1f40',\n",
       " '1f40-2710',\n",
       " '2710-2ee0',\n",
       " '2ee0-36b0',\n",
       " '36b0-3e80',\n",
       " '3e80-4650',\n",
       " '4650-4e20',\n",
       " '4e20-55f0',\n",
       " '55f0-5dc0',\n",
       " '5dc0-6590',\n",
       " '6590-6d60',\n",
       " '6d60-7530',\n",
       " '7530-7d00',\n",
       " '7d00-84d0',\n",
       " '84d0-8ca0',\n",
       " '8ca0-9470',\n",
       " '9470-9c40',\n",
       " '9c40-a410',\n",
       " 'a410-abe0',\n",
       " 'abe0-b3b0',\n",
       " 'b3b0-bb80',\n",
       " 'bb80-c350',\n",
       " 'c350-cb20',\n",
       " 'cb20-d2f0',\n",
       " 'd2f0-dac0',\n",
       " 'dac0-e290',\n",
       " 'e290-ea60',\n",
       " 'ea60-f230',\n",
       " 'f230-fa00',\n",
       " 'fa00-ffff']"
      ]
     },
     "execution_count": 266,
     "metadata": {},
     "output_type": "execute_result"
    }
   ],
   "source": [
    "def byte2hex(bt):\n",
    "    hx = hex(bt).split('x')[1]\n",
    "    if bt < 16:\n",
    "        return '000' + hx\n",
    "    elif bt < 256:\n",
    "        return '00' + hx\n",
    "    elif bt < 4096:\n",
    "        return '0' + hx\n",
    "    elif bt > 65535:\n",
    "        return 'ffff'\n",
    "    return hx\n",
    "\n",
    "['{}-{}'.format(byte2hex(i), byte2hex(i+2000)) for i in range(0, int('ffff', 16), 2000)]"
   ]
  },
  {
   "cell_type": "code",
   "execution_count": 264,
   "metadata": {},
   "outputs": [
    {
     "data": {
      "text/plain": [
       "'0xfff'"
      ]
     },
     "execution_count": 264,
     "metadata": {},
     "output_type": "execute_result"
    }
   ],
   "source": [
    "hex(4095)"
   ]
  },
  {
   "cell_type": "code",
   "execution_count": 267,
   "metadata": {},
   "outputs": [],
   "source": [
    "df_hash_dist.insert(0, 'range_hex', ['{}-{}'.format(byte2hex(i), byte2hex(i+2000)) for i in range(0, int('ffff', 16), 2000)])"
   ]
  },
  {
   "cell_type": "code",
   "execution_count": 268,
   "metadata": {},
   "outputs": [
    {
     "data": {
      "text/html": [
       "<div>\n",
       "<style scoped>\n",
       "    .dataframe tbody tr th:only-of-type {\n",
       "        vertical-align: middle;\n",
       "    }\n",
       "\n",
       "    .dataframe tbody tr th {\n",
       "        vertical-align: top;\n",
       "    }\n",
       "\n",
       "    .dataframe thead th {\n",
       "        text-align: right;\n",
       "    }\n",
       "</style>\n",
       "<table border=\"1\" class=\"dataframe\">\n",
       "  <thead>\n",
       "    <tr style=\"text-align: right;\">\n",
       "      <th></th>\n",
       "      <th>range_hex</th>\n",
       "      <th>hash_range</th>\n",
       "      <th>hash_num</th>\n",
       "      <th>percent</th>\n",
       "    </tr>\n",
       "  </thead>\n",
       "  <tbody>\n",
       "    <tr>\n",
       "      <th>0</th>\n",
       "      <td>0000-07d0</td>\n",
       "      <td>0-2000</td>\n",
       "      <td>44383</td>\n",
       "      <td>0.55</td>\n",
       "    </tr>\n",
       "    <tr>\n",
       "      <th>1</th>\n",
       "      <td>07d0-0fa0</td>\n",
       "      <td>2000-4000</td>\n",
       "      <td>109761</td>\n",
       "      <td>1.35</td>\n",
       "    </tr>\n",
       "    <tr>\n",
       "      <th>2</th>\n",
       "      <td>0fa0-1770</td>\n",
       "      <td>4000-6000</td>\n",
       "      <td>32961</td>\n",
       "      <td>0.41</td>\n",
       "    </tr>\n",
       "    <tr>\n",
       "      <th>3</th>\n",
       "      <td>1770-1f40</td>\n",
       "      <td>6000-8000</td>\n",
       "      <td>17067</td>\n",
       "      <td>0.21</td>\n",
       "    </tr>\n",
       "    <tr>\n",
       "      <th>4</th>\n",
       "      <td>1f40-2710</td>\n",
       "      <td>8000-10000</td>\n",
       "      <td>27740</td>\n",
       "      <td>0.34</td>\n",
       "    </tr>\n",
       "    <tr>\n",
       "      <th>5</th>\n",
       "      <td>2710-2ee0</td>\n",
       "      <td>10000-12000</td>\n",
       "      <td>47186</td>\n",
       "      <td>0.58</td>\n",
       "    </tr>\n",
       "    <tr>\n",
       "      <th>6</th>\n",
       "      <td>2ee0-36b0</td>\n",
       "      <td>12000-14000</td>\n",
       "      <td>43618</td>\n",
       "      <td>0.54</td>\n",
       "    </tr>\n",
       "    <tr>\n",
       "      <th>7</th>\n",
       "      <td>36b0-3e80</td>\n",
       "      <td>14000-16000</td>\n",
       "      <td>19367</td>\n",
       "      <td>0.24</td>\n",
       "    </tr>\n",
       "    <tr>\n",
       "      <th>8</th>\n",
       "      <td>3e80-4650</td>\n",
       "      <td>16000-18000</td>\n",
       "      <td>34574</td>\n",
       "      <td>0.43</td>\n",
       "    </tr>\n",
       "    <tr>\n",
       "      <th>9</th>\n",
       "      <td>4650-4e20</td>\n",
       "      <td>18000-20000</td>\n",
       "      <td>92743</td>\n",
       "      <td>1.14</td>\n",
       "    </tr>\n",
       "    <tr>\n",
       "      <th>10</th>\n",
       "      <td>4e20-55f0</td>\n",
       "      <td>20000-22000</td>\n",
       "      <td>241650</td>\n",
       "      <td>2.98</td>\n",
       "    </tr>\n",
       "    <tr>\n",
       "      <th>11</th>\n",
       "      <td>55f0-5dc0</td>\n",
       "      <td>22000-24000</td>\n",
       "      <td>22159</td>\n",
       "      <td>0.27</td>\n",
       "    </tr>\n",
       "    <tr>\n",
       "      <th>12</th>\n",
       "      <td>5dc0-6590</td>\n",
       "      <td>24000-26000</td>\n",
       "      <td>66519</td>\n",
       "      <td>0.82</td>\n",
       "    </tr>\n",
       "    <tr>\n",
       "      <th>13</th>\n",
       "      <td>6590-6d60</td>\n",
       "      <td>26000-28000</td>\n",
       "      <td>311264</td>\n",
       "      <td>3.84</td>\n",
       "    </tr>\n",
       "    <tr>\n",
       "      <th>14</th>\n",
       "      <td>6d60-7530</td>\n",
       "      <td>28000-30000</td>\n",
       "      <td>833897</td>\n",
       "      <td>10.28</td>\n",
       "    </tr>\n",
       "    <tr>\n",
       "      <th>15</th>\n",
       "      <td>7530-7d00</td>\n",
       "      <td>30000-32000</td>\n",
       "      <td>71404</td>\n",
       "      <td>0.88</td>\n",
       "    </tr>\n",
       "    <tr>\n",
       "      <th>16</th>\n",
       "      <td>7d00-84d0</td>\n",
       "      <td>32000-34000</td>\n",
       "      <td>100573</td>\n",
       "      <td>1.24</td>\n",
       "    </tr>\n",
       "    <tr>\n",
       "      <th>17</th>\n",
       "      <td>84d0-8ca0</td>\n",
       "      <td>34000-36000</td>\n",
       "      <td>18304</td>\n",
       "      <td>0.23</td>\n",
       "    </tr>\n",
       "    <tr>\n",
       "      <th>18</th>\n",
       "      <td>8ca0-9470</td>\n",
       "      <td>36000-38000</td>\n",
       "      <td>75801</td>\n",
       "      <td>0.93</td>\n",
       "    </tr>\n",
       "    <tr>\n",
       "      <th>19</th>\n",
       "      <td>9470-9c40</td>\n",
       "      <td>38000-40000</td>\n",
       "      <td>5554</td>\n",
       "      <td>0.07</td>\n",
       "    </tr>\n",
       "    <tr>\n",
       "      <th>20</th>\n",
       "      <td>9c40-a410</td>\n",
       "      <td>40000-42000</td>\n",
       "      <td>26777</td>\n",
       "      <td>0.33</td>\n",
       "    </tr>\n",
       "    <tr>\n",
       "      <th>21</th>\n",
       "      <td>a410-abe0</td>\n",
       "      <td>42000-44000</td>\n",
       "      <td>22942</td>\n",
       "      <td>0.28</td>\n",
       "    </tr>\n",
       "    <tr>\n",
       "      <th>22</th>\n",
       "      <td>abe0-b3b0</td>\n",
       "      <td>44000-46000</td>\n",
       "      <td>102207</td>\n",
       "      <td>1.26</td>\n",
       "    </tr>\n",
       "    <tr>\n",
       "      <th>23</th>\n",
       "      <td>b3b0-bb80</td>\n",
       "      <td>46000-48000</td>\n",
       "      <td>10738</td>\n",
       "      <td>0.13</td>\n",
       "    </tr>\n",
       "    <tr>\n",
       "      <th>24</th>\n",
       "      <td>bb80-c350</td>\n",
       "      <td>48000-50000</td>\n",
       "      <td>35341</td>\n",
       "      <td>0.44</td>\n",
       "    </tr>\n",
       "    <tr>\n",
       "      <th>25</th>\n",
       "      <td>c350-cb20</td>\n",
       "      <td>50000-52000</td>\n",
       "      <td>94947</td>\n",
       "      <td>1.17</td>\n",
       "    </tr>\n",
       "    <tr>\n",
       "      <th>26</th>\n",
       "      <td>cb20-d2f0</td>\n",
       "      <td>52000-54000</td>\n",
       "      <td>730334</td>\n",
       "      <td>9.00</td>\n",
       "    </tr>\n",
       "    <tr>\n",
       "      <th>27</th>\n",
       "      <td>d2f0-dac0</td>\n",
       "      <td>54000-56000</td>\n",
       "      <td>21286</td>\n",
       "      <td>0.26</td>\n",
       "    </tr>\n",
       "    <tr>\n",
       "      <th>28</th>\n",
       "      <td>dac0-e290</td>\n",
       "      <td>56000-58000</td>\n",
       "      <td>117442</td>\n",
       "      <td>1.45</td>\n",
       "    </tr>\n",
       "    <tr>\n",
       "      <th>29</th>\n",
       "      <td>e290-ea60</td>\n",
       "      <td>58000-60000</td>\n",
       "      <td>557120</td>\n",
       "      <td>6.87</td>\n",
       "    </tr>\n",
       "    <tr>\n",
       "      <th>30</th>\n",
       "      <td>ea60-f230</td>\n",
       "      <td>60000-62000</td>\n",
       "      <td>3701383</td>\n",
       "      <td>45.62</td>\n",
       "    </tr>\n",
       "    <tr>\n",
       "      <th>31</th>\n",
       "      <td>f230-fa00</td>\n",
       "      <td>62000-64000</td>\n",
       "      <td>99690</td>\n",
       "      <td>1.23</td>\n",
       "    </tr>\n",
       "    <tr>\n",
       "      <th>32</th>\n",
       "      <td>fa00-ffff</td>\n",
       "      <td>64000-66000</td>\n",
       "      <td>376372</td>\n",
       "      <td>4.64</td>\n",
       "    </tr>\n",
       "  </tbody>\n",
       "</table>\n",
       "</div>"
      ],
      "text/plain": [
       "    range_hex   hash_range  hash_num  percent\n",
       "0   0000-07d0       0-2000     44383     0.55\n",
       "1   07d0-0fa0    2000-4000    109761     1.35\n",
       "2   0fa0-1770    4000-6000     32961     0.41\n",
       "3   1770-1f40    6000-8000     17067     0.21\n",
       "4   1f40-2710   8000-10000     27740     0.34\n",
       "5   2710-2ee0  10000-12000     47186     0.58\n",
       "6   2ee0-36b0  12000-14000     43618     0.54\n",
       "7   36b0-3e80  14000-16000     19367     0.24\n",
       "8   3e80-4650  16000-18000     34574     0.43\n",
       "9   4650-4e20  18000-20000     92743     1.14\n",
       "10  4e20-55f0  20000-22000    241650     2.98\n",
       "11  55f0-5dc0  22000-24000     22159     0.27\n",
       "12  5dc0-6590  24000-26000     66519     0.82\n",
       "13  6590-6d60  26000-28000    311264     3.84\n",
       "14  6d60-7530  28000-30000    833897    10.28\n",
       "15  7530-7d00  30000-32000     71404     0.88\n",
       "16  7d00-84d0  32000-34000    100573     1.24\n",
       "17  84d0-8ca0  34000-36000     18304     0.23\n",
       "18  8ca0-9470  36000-38000     75801     0.93\n",
       "19  9470-9c40  38000-40000      5554     0.07\n",
       "20  9c40-a410  40000-42000     26777     0.33\n",
       "21  a410-abe0  42000-44000     22942     0.28\n",
       "22  abe0-b3b0  44000-46000    102207     1.26\n",
       "23  b3b0-bb80  46000-48000     10738     0.13\n",
       "24  bb80-c350  48000-50000     35341     0.44\n",
       "25  c350-cb20  50000-52000     94947     1.17\n",
       "26  cb20-d2f0  52000-54000    730334     9.00\n",
       "27  d2f0-dac0  54000-56000     21286     0.26\n",
       "28  dac0-e290  56000-58000    117442     1.45\n",
       "29  e290-ea60  58000-60000    557120     6.87\n",
       "30  ea60-f230  60000-62000   3701383    45.62\n",
       "31  f230-fa00  62000-64000     99690     1.23\n",
       "32  fa00-ffff  64000-66000    376372     4.64"
      ]
     },
     "execution_count": 268,
     "metadata": {},
     "output_type": "execute_result"
    }
   ],
   "source": []
  },
  {
   "cell_type": "code",
   "execution_count": 270,
   "metadata": {},
   "outputs": [
    {
     "data": {
      "text/plain": [
       "60000"
      ]
     },
     "execution_count": 270,
     "metadata": {},
     "output_type": "execute_result"
    }
   ],
   "source": [
    "int('ea60', 16)"
   ]
  },
  {
   "cell_type": "code",
   "execution_count": 273,
   "metadata": {},
   "outputs": [
    {
     "data": {
      "text/plain": [
       "'EA60'"
      ]
     },
     "execution_count": 273,
     "metadata": {},
     "output_type": "execute_result"
    }
   ],
   "source": [
    "hex(60000).split('x')[1].upper()"
   ]
  },
  {
   "cell_type": "code",
   "execution_count": 276,
   "metadata": {},
   "outputs": [],
   "source": [
    "df_hash_dist['range_hex'] = df_hash_dist['range_hex'].apply(lambda x:x.upper())"
   ]
  },
  {
   "cell_type": "code",
   "execution_count": 277,
   "metadata": {},
   "outputs": [
    {
     "data": {
      "text/html": [
       "<div>\n",
       "<style scoped>\n",
       "    .dataframe tbody tr th:only-of-type {\n",
       "        vertical-align: middle;\n",
       "    }\n",
       "\n",
       "    .dataframe tbody tr th {\n",
       "        vertical-align: top;\n",
       "    }\n",
       "\n",
       "    .dataframe thead th {\n",
       "        text-align: right;\n",
       "    }\n",
       "</style>\n",
       "<table border=\"1\" class=\"dataframe\">\n",
       "  <thead>\n",
       "    <tr style=\"text-align: right;\">\n",
       "      <th></th>\n",
       "      <th>range_hex</th>\n",
       "      <th>hash_range</th>\n",
       "      <th>hash_num</th>\n",
       "      <th>percent</th>\n",
       "    </tr>\n",
       "  </thead>\n",
       "  <tbody>\n",
       "    <tr>\n",
       "      <th>0</th>\n",
       "      <td>0000-07D0</td>\n",
       "      <td>0-2000</td>\n",
       "      <td>44383</td>\n",
       "      <td>0.55</td>\n",
       "    </tr>\n",
       "    <tr>\n",
       "      <th>1</th>\n",
       "      <td>07D0-0FA0</td>\n",
       "      <td>2000-4000</td>\n",
       "      <td>109761</td>\n",
       "      <td>1.35</td>\n",
       "    </tr>\n",
       "    <tr>\n",
       "      <th>2</th>\n",
       "      <td>0FA0-1770</td>\n",
       "      <td>4000-6000</td>\n",
       "      <td>32961</td>\n",
       "      <td>0.41</td>\n",
       "    </tr>\n",
       "    <tr>\n",
       "      <th>3</th>\n",
       "      <td>1770-1F40</td>\n",
       "      <td>6000-8000</td>\n",
       "      <td>17067</td>\n",
       "      <td>0.21</td>\n",
       "    </tr>\n",
       "    <tr>\n",
       "      <th>4</th>\n",
       "      <td>1F40-2710</td>\n",
       "      <td>8000-10000</td>\n",
       "      <td>27740</td>\n",
       "      <td>0.34</td>\n",
       "    </tr>\n",
       "    <tr>\n",
       "      <th>5</th>\n",
       "      <td>2710-2EE0</td>\n",
       "      <td>10000-12000</td>\n",
       "      <td>47186</td>\n",
       "      <td>0.58</td>\n",
       "    </tr>\n",
       "    <tr>\n",
       "      <th>6</th>\n",
       "      <td>2EE0-36B0</td>\n",
       "      <td>12000-14000</td>\n",
       "      <td>43618</td>\n",
       "      <td>0.54</td>\n",
       "    </tr>\n",
       "    <tr>\n",
       "      <th>7</th>\n",
       "      <td>36B0-3E80</td>\n",
       "      <td>14000-16000</td>\n",
       "      <td>19367</td>\n",
       "      <td>0.24</td>\n",
       "    </tr>\n",
       "    <tr>\n",
       "      <th>8</th>\n",
       "      <td>3E80-4650</td>\n",
       "      <td>16000-18000</td>\n",
       "      <td>34574</td>\n",
       "      <td>0.43</td>\n",
       "    </tr>\n",
       "    <tr>\n",
       "      <th>9</th>\n",
       "      <td>4650-4E20</td>\n",
       "      <td>18000-20000</td>\n",
       "      <td>92743</td>\n",
       "      <td>1.14</td>\n",
       "    </tr>\n",
       "    <tr>\n",
       "      <th>10</th>\n",
       "      <td>4E20-55F0</td>\n",
       "      <td>20000-22000</td>\n",
       "      <td>241650</td>\n",
       "      <td>2.98</td>\n",
       "    </tr>\n",
       "    <tr>\n",
       "      <th>11</th>\n",
       "      <td>55F0-5DC0</td>\n",
       "      <td>22000-24000</td>\n",
       "      <td>22159</td>\n",
       "      <td>0.27</td>\n",
       "    </tr>\n",
       "    <tr>\n",
       "      <th>12</th>\n",
       "      <td>5DC0-6590</td>\n",
       "      <td>24000-26000</td>\n",
       "      <td>66519</td>\n",
       "      <td>0.82</td>\n",
       "    </tr>\n",
       "    <tr>\n",
       "      <th>13</th>\n",
       "      <td>6590-6D60</td>\n",
       "      <td>26000-28000</td>\n",
       "      <td>311264</td>\n",
       "      <td>3.84</td>\n",
       "    </tr>\n",
       "    <tr>\n",
       "      <th>14</th>\n",
       "      <td>6D60-7530</td>\n",
       "      <td>28000-30000</td>\n",
       "      <td>833897</td>\n",
       "      <td>10.28</td>\n",
       "    </tr>\n",
       "    <tr>\n",
       "      <th>15</th>\n",
       "      <td>7530-7D00</td>\n",
       "      <td>30000-32000</td>\n",
       "      <td>71404</td>\n",
       "      <td>0.88</td>\n",
       "    </tr>\n",
       "    <tr>\n",
       "      <th>16</th>\n",
       "      <td>7D00-84D0</td>\n",
       "      <td>32000-34000</td>\n",
       "      <td>100573</td>\n",
       "      <td>1.24</td>\n",
       "    </tr>\n",
       "    <tr>\n",
       "      <th>17</th>\n",
       "      <td>84D0-8CA0</td>\n",
       "      <td>34000-36000</td>\n",
       "      <td>18304</td>\n",
       "      <td>0.23</td>\n",
       "    </tr>\n",
       "    <tr>\n",
       "      <th>18</th>\n",
       "      <td>8CA0-9470</td>\n",
       "      <td>36000-38000</td>\n",
       "      <td>75801</td>\n",
       "      <td>0.93</td>\n",
       "    </tr>\n",
       "    <tr>\n",
       "      <th>19</th>\n",
       "      <td>9470-9C40</td>\n",
       "      <td>38000-40000</td>\n",
       "      <td>5554</td>\n",
       "      <td>0.07</td>\n",
       "    </tr>\n",
       "    <tr>\n",
       "      <th>20</th>\n",
       "      <td>9C40-A410</td>\n",
       "      <td>40000-42000</td>\n",
       "      <td>26777</td>\n",
       "      <td>0.33</td>\n",
       "    </tr>\n",
       "    <tr>\n",
       "      <th>21</th>\n",
       "      <td>A410-ABE0</td>\n",
       "      <td>42000-44000</td>\n",
       "      <td>22942</td>\n",
       "      <td>0.28</td>\n",
       "    </tr>\n",
       "    <tr>\n",
       "      <th>22</th>\n",
       "      <td>ABE0-B3B0</td>\n",
       "      <td>44000-46000</td>\n",
       "      <td>102207</td>\n",
       "      <td>1.26</td>\n",
       "    </tr>\n",
       "    <tr>\n",
       "      <th>23</th>\n",
       "      <td>B3B0-BB80</td>\n",
       "      <td>46000-48000</td>\n",
       "      <td>10738</td>\n",
       "      <td>0.13</td>\n",
       "    </tr>\n",
       "    <tr>\n",
       "      <th>24</th>\n",
       "      <td>BB80-C350</td>\n",
       "      <td>48000-50000</td>\n",
       "      <td>35341</td>\n",
       "      <td>0.44</td>\n",
       "    </tr>\n",
       "    <tr>\n",
       "      <th>25</th>\n",
       "      <td>C350-CB20</td>\n",
       "      <td>50000-52000</td>\n",
       "      <td>94947</td>\n",
       "      <td>1.17</td>\n",
       "    </tr>\n",
       "    <tr>\n",
       "      <th>26</th>\n",
       "      <td>CB20-D2F0</td>\n",
       "      <td>52000-54000</td>\n",
       "      <td>730334</td>\n",
       "      <td>9.00</td>\n",
       "    </tr>\n",
       "    <tr>\n",
       "      <th>27</th>\n",
       "      <td>D2F0-DAC0</td>\n",
       "      <td>54000-56000</td>\n",
       "      <td>21286</td>\n",
       "      <td>0.26</td>\n",
       "    </tr>\n",
       "    <tr>\n",
       "      <th>28</th>\n",
       "      <td>DAC0-E290</td>\n",
       "      <td>56000-58000</td>\n",
       "      <td>117442</td>\n",
       "      <td>1.45</td>\n",
       "    </tr>\n",
       "    <tr>\n",
       "      <th>29</th>\n",
       "      <td>E290-EA60</td>\n",
       "      <td>58000-60000</td>\n",
       "      <td>557120</td>\n",
       "      <td>6.87</td>\n",
       "    </tr>\n",
       "    <tr>\n",
       "      <th>30</th>\n",
       "      <td>EA60-F230</td>\n",
       "      <td>60000-62000</td>\n",
       "      <td>3701383</td>\n",
       "      <td>45.62</td>\n",
       "    </tr>\n",
       "    <tr>\n",
       "      <th>31</th>\n",
       "      <td>F230-FA00</td>\n",
       "      <td>62000-64000</td>\n",
       "      <td>99690</td>\n",
       "      <td>1.23</td>\n",
       "    </tr>\n",
       "    <tr>\n",
       "      <th>32</th>\n",
       "      <td>FA00-FFFF</td>\n",
       "      <td>64000-66000</td>\n",
       "      <td>376372</td>\n",
       "      <td>4.64</td>\n",
       "    </tr>\n",
       "  </tbody>\n",
       "</table>\n",
       "</div>"
      ],
      "text/plain": [
       "    range_hex   hash_range  hash_num  percent\n",
       "0   0000-07D0       0-2000     44383     0.55\n",
       "1   07D0-0FA0    2000-4000    109761     1.35\n",
       "2   0FA0-1770    4000-6000     32961     0.41\n",
       "3   1770-1F40    6000-8000     17067     0.21\n",
       "4   1F40-2710   8000-10000     27740     0.34\n",
       "5   2710-2EE0  10000-12000     47186     0.58\n",
       "6   2EE0-36B0  12000-14000     43618     0.54\n",
       "7   36B0-3E80  14000-16000     19367     0.24\n",
       "8   3E80-4650  16000-18000     34574     0.43\n",
       "9   4650-4E20  18000-20000     92743     1.14\n",
       "10  4E20-55F0  20000-22000    241650     2.98\n",
       "11  55F0-5DC0  22000-24000     22159     0.27\n",
       "12  5DC0-6590  24000-26000     66519     0.82\n",
       "13  6590-6D60  26000-28000    311264     3.84\n",
       "14  6D60-7530  28000-30000    833897    10.28\n",
       "15  7530-7D00  30000-32000     71404     0.88\n",
       "16  7D00-84D0  32000-34000    100573     1.24\n",
       "17  84D0-8CA0  34000-36000     18304     0.23\n",
       "18  8CA0-9470  36000-38000     75801     0.93\n",
       "19  9470-9C40  38000-40000      5554     0.07\n",
       "20  9C40-A410  40000-42000     26777     0.33\n",
       "21  A410-ABE0  42000-44000     22942     0.28\n",
       "22  ABE0-B3B0  44000-46000    102207     1.26\n",
       "23  B3B0-BB80  46000-48000     10738     0.13\n",
       "24  BB80-C350  48000-50000     35341     0.44\n",
       "25  C350-CB20  50000-52000     94947     1.17\n",
       "26  CB20-D2F0  52000-54000    730334     9.00\n",
       "27  D2F0-DAC0  54000-56000     21286     0.26\n",
       "28  DAC0-E290  56000-58000    117442     1.45\n",
       "29  E290-EA60  58000-60000    557120     6.87\n",
       "30  EA60-F230  60000-62000   3701383    45.62\n",
       "31  F230-FA00  62000-64000     99690     1.23\n",
       "32  FA00-FFFF  64000-66000    376372     4.64"
      ]
     },
     "execution_count": 277,
     "metadata": {},
     "output_type": "execute_result"
    }
   ],
   "source": [
    "df_hash_dist"
   ]
  },
  {
   "cell_type": "code",
   "execution_count": 15,
   "metadata": {},
   "outputs": [],
   "source": [
    "res = db.read('select * from case_art_image_distinct_test where `cid`=289008 and `id`=10899')"
   ]
  },
  {
   "cell_type": "code",
   "execution_count": 16,
   "metadata": {},
   "outputs": [
    {
     "name": "stdout",
     "output_type": "stream",
     "text": [
      "False\n"
     ]
    }
   ],
   "source": [
    "if res:\n",
    "    print('True')\n",
    "else:\n",
    "    print('False')"
   ]
  },
  {
   "cell_type": "code",
   "execution_count": 17,
   "metadata": {},
   "outputs": [
    {
     "data": {
      "text/plain": [
       "False"
      ]
     },
     "execution_count": 17,
     "metadata": {},
     "output_type": "execute_result"
    }
   ],
   "source": [
    "bool(res)"
   ]
  },
  {
   "cell_type": "code",
   "execution_count": 19,
   "metadata": {},
   "outputs": [
    {
     "data": {
      "text/plain": [
       "False"
      ]
     },
     "execution_count": 19,
     "metadata": {},
     "output_type": "execute_result"
    }
   ],
   "source": [
    "not not res"
   ]
  },
  {
   "cell_type": "code",
   "execution_count": 20,
   "metadata": {},
   "outputs": [],
   "source": [
    "res"
   ]
  },
  {
   "cell_type": "code",
   "execution_count": null,
   "metadata": {},
   "outputs": [],
   "source": []
  }
 ],
 "metadata": {
  "kernelspec": {
   "display_name": "Python 3",
   "language": "python",
   "name": "python3"
  },
  "language_info": {
   "codemirror_mode": {
    "name": "ipython",
    "version": 3
   },
   "file_extension": ".py",
   "mimetype": "text/x-python",
   "name": "python",
   "nbconvert_exporter": "python",
   "pygments_lexer": "ipython3",
   "version": "3.6.8"
  }
 },
 "nbformat": 4,
 "nbformat_minor": 2
}
