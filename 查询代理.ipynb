{
 "cells": [
  {
   "cell_type": "code",
   "execution_count": 1,
   "metadata": {},
   "outputs": [],
   "source": [
    "from piquery.piquery import PIQBuilder\n",
    "from piquery.piqdb import MysqlDb, Mysql\n",
    "from piquery.piq_cache import saveCache, loadCache\n",
    "import requests\n",
    "from time import time"
   ]
  },
  {
   "cell_type": "code",
   "execution_count": null,
   "metadata": {},
   "outputs": [],
   "source": [
    "# db_cfg = {\n",
    "#   'host': '192.168.11.112',\n",
    "#   'user': 'to8to',\n",
    "#   'passwd': 'to8to123',\n",
    "#   'db': 't8t-bi-report',\n",
    "#   'table': 'case_art_image_distinct', # case_art_image_distinct\n",
    "#   'table_log': 'case_art_image_distinct_log_test' # case_art_image_distinct_log\n",
    "# }\n",
    "\n",
    "# db = MysqlDb(host=db_cfg['host'], user=db_cfg['user'], passwd=db_cfg['passwd'], db=db_cfg['db'])"
   ]
  },
  {
   "cell_type": "code",
   "execution_count": 2,
   "metadata": {},
   "outputs": [],
   "source": [
    "piq = PIQBuilder.build()"
   ]
  },
  {
   "cell_type": "code",
   "execution_count": 3,
   "metadata": {},
   "outputs": [],
   "source": [
    "url = 'https://pic.to8to.com/case/1906/27/20190627_bab6a319233c7082cdb2fnfka965q2o8.jpg'\n",
    "url2 = 'https://pic.to8to.com/case/1906/27/20190627_1512a444566d07aa4b7fixqns0s7j488.jpg'"
   ]
  },
  {
   "cell_type": "code",
   "execution_count": 4,
   "metadata": {},
   "outputs": [
    {
     "name": "stdout",
     "output_type": "stream",
     "text": [
      "cost 28.18304681777954 s\n"
     ]
    }
   ],
   "source": [
    "start_time = time()\n",
    "piq.queryRepeat(url2)\n",
    "cost_time = time() - start_time\n",
    "print('cost {} s'.format(cost_time))"
   ]
  },
  {
   "cell_type": "code",
   "execution_count": null,
   "metadata": {},
   "outputs": [],
   "source": [
    "img_hash, img_des = piq.getHashAndDes(url2)"
   ]
  },
  {
   "cell_type": "code",
   "execution_count": null,
   "metadata": {},
   "outputs": [],
   "source": [
    "start_time = time()\n",
    "hash_df2 = piq.quickQueryRepeat(img_hash, img_des)\n",
    "cost_time = time() - start_time\n",
    "print('cost {} s'.format(cost_time))"
   ]
  },
  {
   "cell_type": "code",
   "execution_count": null,
   "metadata": {},
   "outputs": [],
   "source": [
    "# path.isfile('data/6f60/303999_1281304.json')\n",
    "path.isdir('data/6f60')"
   ]
  },
  {
   "cell_type": "markdown",
   "metadata": {},
   "source": [
    "#### 软删除查询\n",
    "\n",
    "query hash eeb0, result in 9317 rows, cost 22.724453926086426 s\n",
    "\n",
    "#### 硬删除查询\n",
    "\n",
    "query hash eeb0, result in 9317 rows, cost 2.6923611164093018 s"
   ]
  },
  {
   "cell_type": "code",
   "execution_count": null,
   "metadata": {},
   "outputs": [],
   "source": [
    "start_time = time()\n",
    "hash_df = piq.hash_query.query(img_hash)\n",
    "print('query hash {}, result in {} rows, cost {} s'.format(img_hash, hash_df.shape[0], cost_time))"
   ]
  },
  {
   "cell_type": "code",
   "execution_count": null,
   "metadata": {},
   "outputs": [],
   "source": [
    "start_time = time()\n",
    "res = piq.queryRepeat(url)\n",
    "cost_time = time() - start_time\n",
    "print('queryRepeat url {}\\nresult in {},\\ncost {} s'.format(url, res, cost_time))"
   ]
  },
  {
   "cell_type": "code",
   "execution_count": null,
   "metadata": {},
   "outputs": [],
   "source": [
    "start_time = time()\n",
    "res = piq.quickQueryRepeat(img_des, hash_df)\n",
    "cost_time = time() - start_time\n",
    "print('quickQueryRepeat cost {} s'.format(cost_time))"
   ]
  },
  {
   "cell_type": "code",
   "execution_count": null,
   "metadata": {},
   "outputs": [],
   "source": [
    "cached_df = hash_df.sort_values('id', ascending=False).reset_index(drop=True)[['cid', 'id', 'fp']]"
   ]
  },
  {
   "cell_type": "code",
   "execution_count": null,
   "metadata": {},
   "outputs": [],
   "source": [
    "start_time = time()\n",
    "\n",
    "for idx in cached_df.index:\n",
    "    cid, _id, fp = cached_df.loc[idx, ['cid', 'id', 'fp']]\n",
    "    des = piq.img_feature.fp2des(fp).tolist()\n",
    "    f_dir = 'data/' + img_hash\n",
    "    if not path.isdir(f_dir):\n",
    "        makedirs(f_dir)\n",
    "    saveJson(des, '{}/{}_{}.json'.format(f_dir, cid, _id))\n",
    "\n",
    "cost_time = time() - start_time\n",
    "print('cost {} s'.format(cost_time))"
   ]
  },
  {
   "cell_type": "code",
   "execution_count": null,
   "metadata": {},
   "outputs": [],
   "source": [
    "import json\n",
    "\n",
    "def saveJson(data, json_file):\n",
    "    save_json = json.dumps(data)\n",
    "    with open(json_file, 'w') as f:\n",
    "        f.write(save_json)\n",
    "\n",
    "def loadJson(json_file):\n",
    "    with open(json_file, 'r') as f:\n",
    "        res = json.loads(f.readlines()[0])\n",
    "    return res"
   ]
  },
  {
   "cell_type": "code",
   "execution_count": null,
   "metadata": {},
   "outputs": [],
   "source": [
    "from os import path, makedirs"
   ]
  },
  {
   "cell_type": "code",
   "execution_count": null,
   "metadata": {},
   "outputs": [],
   "source": [
    "hash_df.head()"
   ]
  },
  {
   "cell_type": "code",
   "execution_count": null,
   "metadata": {},
   "outputs": [],
   "source": [
    "des = loadJson('data/{}/{}_{}.json'.format(img_hash, 352, 3086))"
   ]
  },
  {
   "cell_type": "code",
   "execution_count": null,
   "metadata": {},
   "outputs": [],
   "source": [
    "des"
   ]
  },
  {
   "cell_type": "code",
   "execution_count": null,
   "metadata": {},
   "outputs": [],
   "source": [
    "import numpy as np\n",
    "\n",
    "piq.img_feature.sim(img_des, np.array(des, dtype=np.uint8))"
   ]
  },
  {
   "cell_type": "code",
   "execution_count": null,
   "metadata": {},
   "outputs": [],
   "source": [
    "from glob import glob"
   ]
  },
  {
   "cell_type": "code",
   "execution_count": null,
   "metadata": {},
   "outputs": [],
   "source": [
    "start_time = time()\n",
    "\n",
    "for f_j in glob('data/**/*'):\n",
    "    des = np.array(loadJson(f_j), dtype=np.uint8)\n",
    "    sim = piq.img_feature.sim(img_des, des)\n",
    "\n",
    "cost_time = time() - start_time\n",
    "print('cost {} s'.format(cost_time))"
   ]
  },
  {
   "cell_type": "code",
   "execution_count": null,
   "metadata": {},
   "outputs": [],
   "source": [
    "hashLoader = loadCache(img_hash)"
   ]
  },
  {
   "cell_type": "code",
   "execution_count": null,
   "metadata": {},
   "outputs": [],
   "source": [
    "for des in hashLoader:\n",
    "    print(des)"
   ]
  },
  {
   "cell_type": "code",
   "execution_count": null,
   "metadata": {},
   "outputs": [],
   "source": [
    "next(iter(hashLoader))"
   ]
  },
  {
   "cell_type": "code",
   "execution_count": null,
   "metadata": {},
   "outputs": [],
   "source": [
    "url2 = 'https://pic.to8to.com/case/1906/27/20190627_1512a444566d07aa4b7fixqns0s7j488.jpg'\n",
    "img_hash2, img_des2 = piq.getHashAndDes(url2)"
   ]
  },
  {
   "cell_type": "code",
   "execution_count": null,
   "metadata": {},
   "outputs": [],
   "source": [
    "img_hash2"
   ]
  },
  {
   "cell_type": "code",
   "execution_count": null,
   "metadata": {},
   "outputs": [],
   "source": [
    "start_time = time()\n",
    "hash_df2 = piq.hash_query.query(img_hash2)\n",
    "cost_time = time() - start_time\n",
    "print('query hash {}, result in {} rows, cost {} s'.format(img_hash2, hash_df2.shape[0], cost_time))"
   ]
  },
  {
   "cell_type": "code",
   "execution_count": null,
   "metadata": {},
   "outputs": [],
   "source": [
    "saveCache(img_hash2, hash_df2, lambda x:piq.img_feature.fp2des(x))"
   ]
  },
  {
   "cell_type": "code",
   "execution_count": null,
   "metadata": {},
   "outputs": [],
   "source": [
    "path.basename(glob('data/*/*')[0])[:-5].split('_')"
   ]
  },
  {
   "cell_type": "code",
   "execution_count": null,
   "metadata": {},
   "outputs": [],
   "source": [
    "loader = loadCache(img_hash)"
   ]
  },
  {
   "cell_type": "code",
   "execution_count": null,
   "metadata": {},
   "outputs": [],
   "source": [
    "(cid, _id), des = next(iter(loader))"
   ]
  },
  {
   "cell_type": "code",
   "execution_count": null,
   "metadata": {},
   "outputs": [],
   "source": [
    "des"
   ]
  },
  {
   "cell_type": "code",
   "execution_count": null,
   "metadata": {},
   "outputs": [],
   "source": [
    "not path.isdir('data/6f6')"
   ]
  },
  {
   "cell_type": "code",
   "execution_count": null,
   "metadata": {},
   "outputs": [],
   "source": []
  }
 ],
 "metadata": {
  "kernelspec": {
   "display_name": "Python 3",
   "language": "python",
   "name": "python3"
  },
  "language_info": {
   "codemirror_mode": {
    "name": "ipython",
    "version": 3
   },
   "file_extension": ".py",
   "mimetype": "text/x-python",
   "name": "python",
   "nbconvert_exporter": "python",
   "pygments_lexer": "ipython3",
   "version": "3.6.8"
  }
 },
 "nbformat": 4,
 "nbformat_minor": 2
}
